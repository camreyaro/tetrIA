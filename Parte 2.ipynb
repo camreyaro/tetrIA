{
 "cells": [
  {
   "cell_type": "markdown",
   "metadata": {},
   "source": [
    "## TETRIS: Cálculo de la mejor posición dada una situación del tablero"
   ]
  },
  {
   "cell_type": "markdown",
   "metadata": {},
   "source": [
    "En esta parte, tendremos una situación del tablero y una pieza que se está manejando en el momento, y el objetivo es conocer cuál es la mejor posición para situar la pieza. \n",
    "Para ello, primero se calculan todas las posiciones posibles, y luego se puntúa cada posición realizando un cálculo basado en cuatro métricas: El número de líneas que se completan, la altura máxima, la variación de las alturas de cada columna y el número de huecos, de forma que las tres últimas restan puntuación (por lo cual se quiere minimizarlas) y la primera suma puntuación (por lo cual, se quiere maximizar).\n",
    "\n",
    "En primer lugar, importamos los módulos y clases necesarias:"
   ]
  },
  {
   "cell_type": "code",
   "execution_count": 12,
   "metadata": {},
   "outputs": [],
   "source": [
    "import problema_espacio_estados as probee\n",
    "import Piece as pieceClass\n",
    "import Coordinate as coordinateClass\n",
    "import Board as boardClass\n",
    "import copy\n",
    "import numpy\n",
    "import math\n",
    "import búsqueda_espacio_estados as búsqee\n",
    "import operator\n",
    "b_anchura = búsqee.BúsquedaEnAnchura(detallado=True)"
   ]
  },
  {
   "cell_type": "markdown",
   "metadata": {},
   "source": [
    "A continuación, definimos una situación inicial del tablero junto con la pieza que se maneja:"
   ]
  },
  {
   "cell_type": "code",
   "execution_count": 13,
   "metadata": {},
   "outputs": [
    {
     "name": "stdout",
     "output_type": "stream",
     "text": [
      " \u001b[0;37;47m.\u001b[0m  \u001b[35m■\u001b[0m                \u001b[0;37;47m.\u001b[0m\n",
      " \u001b[0;37;47m.\u001b[0m\u001b[35m■\u001b[0m \u001b[35m■\u001b[0m \u001b[35m■\u001b[0m              \u001b[0;37;47m.\u001b[0m\n",
      " \u001b[40m.\u001b[0m                   \u001b[40m.\u001b[0m\n",
      " \u001b[40m.\u001b[0m                   \u001b[40m.\u001b[0m\n",
      " \u001b[40m.\u001b[0m                   \u001b[40m.\u001b[0m\n",
      " \u001b[40m.\u001b[0m                   \u001b[40m.\u001b[0m\n",
      " \u001b[40m.\u001b[0m                   \u001b[40m.\u001b[0m\n",
      " \u001b[40m.\u001b[0m                   \u001b[40m.\u001b[0m\n",
      " \u001b[40m.\u001b[0m                   \u001b[40m.\u001b[0m\n",
      " \u001b[40m.\u001b[0m                   \u001b[40m.\u001b[0m\n",
      " \u001b[40m.\u001b[0m                   \u001b[40m.\u001b[0m\n",
      " \u001b[40m.\u001b[0m                   \u001b[40m.\u001b[0m\n",
      " \u001b[40m.\u001b[0m                   \u001b[40m.\u001b[0m\n",
      " \u001b[40m.\u001b[0m                   \u001b[40m.\u001b[0m\n",
      " \u001b[40m.\u001b[0m                   \u001b[40m.\u001b[0m\n",
      " \u001b[40m.\u001b[0m                   \u001b[40m.\u001b[0m\n",
      " \u001b[40m.\u001b[0m                   \u001b[40m.\u001b[0m\n",
      " \u001b[40m.\u001b[0m                   \u001b[40m.\u001b[0m\n",
      " \u001b[40m.\u001b[0m\u001b[36m■\u001b[0m \u001b[36m■\u001b[0m     \u001b[36m■\u001b[0m \u001b[36m■\u001b[0m \u001b[36m■\u001b[0m \u001b[36m■\u001b[0m   \u001b[36m■\u001b[0m\u001b[40m.\u001b[0m\n",
      " \u001b[40m.\u001b[0m  \u001b[36m■\u001b[0m   \u001b[36m■\u001b[0m \u001b[36m■\u001b[0m \u001b[36m■\u001b[0m \u001b[36m■\u001b[0m \u001b[36m■\u001b[0m \u001b[36m■\u001b[0m  \u001b[40m.\u001b[0m\n"
     ]
    }
   ],
   "source": [
    "piece = pieceClass.Piece([coordinateClass.Coordinate(1,1),coordinateClass.Coordinate(0,1),coordinateClass.Coordinate(1,0),coordinateClass.Coordinate(1,2)], \"T\")\n",
    "\n",
    "board = boardClass.Board(20,10,piece)\n",
    "\n",
    "#Llenamos el tablero con algunas piezas\n",
    "board.matrix[19,1]=1\n",
    "board.matrix[19,3]=1\n",
    "board.matrix[19,4]=1\n",
    "board.matrix[19,5]=1\n",
    "board.matrix[19,6]=1\n",
    "board.matrix[19,7]=1\n",
    "board.matrix[19,8]=1\n",
    "\n",
    "board.matrix[18,0]=1\n",
    "board.matrix[18,1]=1\n",
    "board.matrix[18,4]=1\n",
    "board.matrix[18,5]=1\n",
    "board.matrix[18,6]=1\n",
    "board.matrix[18,7]=1\n",
    "board.matrix[18,9]=1\n",
    "\n",
    "a = board.printBoard()"
   ]
  },
  {
   "cell_type": "markdown",
   "metadata": {},
   "source": [
    "Para calcular la mejor posición, simplemente llamamos al método calculateBestPosition() de la clase Board. Este método puede recibir un parámetro denominado 'detailed', con el cual puede elegirse si se muestran las distintas piezas y su puntuación mientras se realiza el cálculo. Se irán imprimiendo en pantalla las distintas posiciones, sus métricas y su puntuación total:"
   ]
  },
  {
   "cell_type": "code",
   "execution_count": 14,
   "metadata": {},
   "outputs": [
    {
     "name": "stdout",
     "output_type": "stream",
     "text": [
      "\n",
      "La mejor posición es:  (17,8), (17,9), (18,8), (17,7), \n"
     ]
    }
   ],
   "source": [
    "posiblePositions = board.calculatePosiblePositions()\n",
    "sortedPositions = sorted(posiblePositions.items(), key=operator.itemgetter(1),reverse=True)\n",
    "bestPosition = sortedPositions[0][0]\n",
    "\n",
    "print(\"\\nLa mejor posición es: \", bestPosition)"
   ]
  },
  {
   "cell_type": "markdown",
   "metadata": {},
   "source": [
    "A continuación, determinamos la secuencia de movimientos para alcanzar dicha posición:"
   ]
  },
  {
   "cell_type": "code",
   "execution_count": 15,
   "metadata": {},
   "outputs": [
    {
     "name": "stdout",
     "output_type": "stream",
     "text": [
      " \u001b[0;37;47m.\u001b[0m                   \u001b[0;37;47m.\u001b[0m\n",
      " \u001b[0;37;47m.\u001b[0m                   \u001b[0;37;47m.\u001b[0m\n",
      " \u001b[40m.\u001b[0m                   \u001b[40m.\u001b[0m\n",
      " \u001b[40m.\u001b[0m                   \u001b[40m.\u001b[0m\n",
      " \u001b[40m.\u001b[0m                   \u001b[40m.\u001b[0m\n",
      " \u001b[40m.\u001b[0m                   \u001b[40m.\u001b[0m\n",
      " \u001b[40m.\u001b[0m                   \u001b[40m.\u001b[0m\n",
      " \u001b[40m.\u001b[0m                   \u001b[40m.\u001b[0m\n",
      " \u001b[40m.\u001b[0m                   \u001b[40m.\u001b[0m\n",
      " \u001b[40m.\u001b[0m                   \u001b[40m.\u001b[0m\n",
      " \u001b[40m.\u001b[0m                   \u001b[40m.\u001b[0m\n",
      " \u001b[40m.\u001b[0m                   \u001b[40m.\u001b[0m\n",
      " \u001b[40m.\u001b[0m                   \u001b[40m.\u001b[0m\n",
      " \u001b[40m.\u001b[0m                   \u001b[40m.\u001b[0m\n",
      " \u001b[40m.\u001b[0m                   \u001b[40m.\u001b[0m\n",
      " \u001b[40m.\u001b[0m                   \u001b[40m.\u001b[0m\n",
      " \u001b[40m.\u001b[0m                   \u001b[40m.\u001b[0m\n",
      " \u001b[40m.\u001b[0m              \u001b[35m■\u001b[0m \u001b[35m■\u001b[0m \u001b[35m■\u001b[0m\u001b[40m.\u001b[0m\n",
      " \u001b[40m.\u001b[0m\u001b[36m■\u001b[0m \u001b[36m■\u001b[0m     \u001b[36m■\u001b[0m \u001b[36m■\u001b[0m \u001b[36m■\u001b[0m \u001b[36m■\u001b[0m \u001b[35m■\u001b[0m \u001b[36m■\u001b[0m\u001b[40m.\u001b[0m\n",
      " \u001b[40m.\u001b[0m  \u001b[36m■\u001b[0m   \u001b[36m■\u001b[0m \u001b[36m■\u001b[0m \u001b[36m■\u001b[0m \u001b[36m■\u001b[0m \u001b[36m■\u001b[0m \u001b[36m■\u001b[0m  \u001b[40m.\u001b[0m\n"
     ]
    }
   ],
   "source": [
    "# Creamos el tablero final\n",
    "piece = bestPosition\n",
    "finalBoard = boardClass.Board(20,10,piece)\n",
    "\n",
    "#Llenamos el tablero con algunas piezas\n",
    "finalBoard.matrix[19,1]=1\n",
    "finalBoard.matrix[19,3]=1\n",
    "finalBoard.matrix[19,4]=1\n",
    "finalBoard.matrix[19,5]=1\n",
    "finalBoard.matrix[19,6]=1\n",
    "finalBoard.matrix[19,7]=1\n",
    "finalBoard.matrix[19,8]=1\n",
    "\n",
    "finalBoard.matrix[18,0]=1\n",
    "finalBoard.matrix[18,1]=1\n",
    "finalBoard.matrix[18,4]=1\n",
    "finalBoard.matrix[18,5]=1\n",
    "finalBoard.matrix[18,6]=1\n",
    "finalBoard.matrix[18,7]=1\n",
    "finalBoard.matrix[18,9]=1\n",
    "\n",
    "a = finalBoard.printBoard()"
   ]
  },
  {
   "cell_type": "markdown",
   "metadata": {},
   "source": [
    "Definimos las acciones y creamos el objeto ProblemaEspacioEstados:"
   ]
  },
  {
   "cell_type": "code",
   "execution_count": 16,
   "metadata": {},
   "outputs": [],
   "source": [
    "def aplicabilidad(board):\n",
    "    return board.canMoveDown()\n",
    "\n",
    "def aplicación(board):\n",
    "    updatedBoard = copy.deepcopy(board)\n",
    "    updatedPiece = copy.deepcopy(updatedBoard.getCurrentPiece())\n",
    "    updatedPiece.moveDown()\n",
    "    updatedBoard.updateBoard(updatedPiece)\n",
    "    return updatedBoard\n",
    "\n",
    "moveDown = probee.Acción('Mover abajo', aplicabilidad, aplicación)\n",
    "\n",
    "def aplicabilidad(board):\n",
    "    return board.canMoveRight()\n",
    "\n",
    "def aplicación(board):\n",
    "    updatedBoard = copy.deepcopy(board)\n",
    "    updatedPiece = copy.deepcopy(updatedBoard.getCurrentPiece())\n",
    "    updatedPiece.moveRight()\n",
    "    updatedBoard.updateBoard(updatedPiece)\n",
    "    return updatedBoard\n",
    "\n",
    "moveRight = probee.Acción('Mover a la derecha', aplicabilidad, aplicación)\n",
    "\n",
    "def aplicabilidad(board):\n",
    "    return board.canMoveLeft()\n",
    "\n",
    "def aplicación(board):\n",
    "    updatedBoard = copy.deepcopy(board)\n",
    "    updatedPiece = copy.deepcopy(updatedBoard.getCurrentPiece())\n",
    "    updatedPiece.moveLeft()\n",
    "    updatedBoard.updateBoard(updatedPiece)\n",
    "    return updatedBoard\n",
    "\n",
    "moveLeft = probee.Acción('Mover a la izquierda', aplicabilidad, aplicación)\n",
    "\n",
    "def aplicabilidad(board):\n",
    "    return board.canRotateLeft()\n",
    "\n",
    "def aplicación(board):\n",
    "    updatedBoard = copy.deepcopy(board)\n",
    "    updatedPiece = copy.deepcopy(updatedBoard.getCurrentPiece())\n",
    "    updatedPiece.rotateLeft(board.width)\n",
    "    updatedBoard.updateBoard(updatedPiece)\n",
    "    return updatedBoard\n",
    "\n",
    "rotateLeft = probee.Acción('Rotar a la izquierda', aplicabilidad, aplicación)\n",
    "\n",
    "def aplicabilidad(board):\n",
    "    return board.canRotateRight()\n",
    "\n",
    "def aplicación(board):\n",
    "    updatedBoard = copy.deepcopy(board)\n",
    "    updatedPiece = copy.deepcopy(updatedBoard.getCurrentPiece())\n",
    "    updatedPiece.rotateRight(board.width)\n",
    "    updatedBoard.updateBoard(updatedPiece)\n",
    "    return updatedBoard\n",
    "\n",
    "rotateRight = probee.Acción('Rotar a la derecha', aplicabilidad, aplicación)"
   ]
  },
  {
   "cell_type": "code",
   "execution_count": 17,
   "metadata": {},
   "outputs": [],
   "source": [
    "acciones = [moveDown,moveRight,moveLeft,rotateLeft,rotateRight]\n",
    "estado_inicial = board\n",
    "estado_final = finalBoard\n",
    "tetris = probee.ProblemaEspacioEstados(\n",
    "    acciones, estado_inicial, [estado_final])"
   ]
  },
  {
   "cell_type": "markdown",
   "metadata": {},
   "source": [
    "Finalmente, determinamos el camino usando el algoritmo A*:"
   ]
  },
  {
   "cell_type": "code",
   "execution_count": 18,
   "metadata": {},
   "outputs": [
    {
     "name": "stdout",
     "output_type": "stream",
     "text": [
      "['Mover abajo', 'Mover abajo', 'Mover abajo', 'Mover abajo', 'Mover abajo', 'Mover abajo', 'Mover abajo', 'Mover abajo', 'Mover abajo', 'Mover abajo', 'Mover a la derecha', 'Mover abajo', 'Mover a la derecha', 'Mover abajo', 'Mover a la derecha', 'Mover abajo', 'Mover a la derecha', 'Mover abajo', 'Mover a la derecha', 'Mover abajo', 'Mover abajo', 'Mover a la derecha', 'Mover a la derecha', 'Rotar a la izquierda', 'Rotar a la izquierda']\n"
     ]
    }
   ],
   "source": [
    "from scipy.spatial import distance\n",
    "\n",
    "def h(nodo):\n",
    "    estado = nodo.estado\n",
    "    mini = 0\n",
    "    for i in range(len(estado.currentPiece.coordinates)):\n",
    "        a = estado.currentPiece.coordinates[i]\n",
    "        b = estado_final.currentPiece.coordinates[i]\n",
    "        x = b.getX()-a.getX()\n",
    "        y = b.getY()-a.getY()\n",
    "        mod = math.sqrt((x*x) + (y*y))\n",
    "        mini += mod\n",
    "    return mini\n",
    "b_a_estrella = búsqee.BúsquedaAEstrella(h)\n",
    "\n",
    "try:\n",
    "    a = b_a_estrella.buscar(tetris)\n",
    "    print(a)\n",
    "except:\n",
    "    print(\"No existe camino.\")"
   ]
  }
 ],
 "metadata": {
  "kernelspec": {
   "display_name": "Python 3",
   "language": "python",
   "name": "python3"
  },
  "language_info": {
   "codemirror_mode": {
    "name": "ipython",
    "version": 3
   },
   "file_extension": ".py",
   "mimetype": "text/x-python",
   "name": "python",
   "nbconvert_exporter": "python",
   "pygments_lexer": "ipython3",
   "version": "3.6.5"
  }
 },
 "nbformat": 4,
 "nbformat_minor": 2
}
