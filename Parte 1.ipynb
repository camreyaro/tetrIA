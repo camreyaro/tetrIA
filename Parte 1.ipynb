{
 "cells": [
  {
   "cell_type": "markdown",
   "metadata": {},
   "source": [
    "### TETRIS: Secuencia de movimientos para colocar la pieza"
   ]
  },
  {
   "cell_type": "markdown",
   "metadata": {},
   "source": [
    "Para resolver el problema, lo representaremos como un espacio de estados, donde los estados serán las distintas situaciones del tablero. El tablero será representado con una matriz de ceros y unos, donde 0 indica la ausencia de fragmento de alguna pieza, y 1 el caso contrario.<br/><br/>\n",
    "En primer lugar, importamos las clases necesarias:"
   ]
  },
  {
   "cell_type": "code",
   "execution_count": 19,
   "metadata": {},
   "outputs": [],
   "source": [
    "import problema_espacio_estados as probee\n",
    "import Piece as pieceClass\n",
    "import Coordinate as coordinateClass\n",
    "import Board as boardClass\n",
    "import copy\n",
    "import numpy\n",
    "import math\n",
    "import búsqueda_espacio_estados as búsqee\n",
    "b_anchura = búsqee.BúsquedaEnAnchura()\n",
    "b_profundidad = búsqee.BúsquedaEnProfundidad()\n",
    "b_óptima = búsqee.BúsquedaÓptima()"
   ]
  },
  {
   "cell_type": "markdown",
   "metadata": {},
   "source": [
    "A continuación, creamos los estados inicial y final. Para ello necesitamos definir la pieza que estamos manejando al principio, dada por un conjunto de coordenadas que la sitúan dentro de la matriz tablero (es importante destacar que <b>la primera coordenada se corresponde con el centro de rotación de la pieza</b>), y el tipo de pieza. Tras esto, definimos el tablero indicando sus dimensiones y la pieza que se maneja en dicho momento. Para el estado final, necesitamos definir la pieza final, es decir, la pieza original en la posición que queremos conseguir, y con la rotación deseada."
   ]
  },
  {
   "cell_type": "code",
   "execution_count": 20,
   "metadata": {},
   "outputs": [
    {
     "name": "stdout",
     "output_type": "stream",
     "text": [
      "Tablero inicial\n",
      "\n",
      " \u001b[0;37;47m.\u001b[0m          \u001b[35m■\u001b[0m        \u001b[0;37;47m.\u001b[0m\n",
      " \u001b[0;37;47m.\u001b[0m        \u001b[35m■\u001b[0m \u001b[35m■\u001b[0m \u001b[35m■\u001b[0m      \u001b[0;37;47m.\u001b[0m\n",
      " \u001b[40m.\u001b[0m                   \u001b[40m.\u001b[0m\n",
      " \u001b[40m.\u001b[0m                   \u001b[40m.\u001b[0m\n",
      " \u001b[40m.\u001b[0m                   \u001b[40m.\u001b[0m\n",
      " \u001b[40m.\u001b[0m      \u001b[36m■\u001b[0m \u001b[36m■\u001b[0m \u001b[36m■\u001b[0m \u001b[36m■\u001b[0m \u001b[36m■\u001b[0m \u001b[36m■\u001b[0m \u001b[36m■\u001b[0m\u001b[40m.\u001b[0m\n",
      " \u001b[40m.\u001b[0m                   \u001b[40m.\u001b[0m\n",
      " \u001b[40m.\u001b[0m                   \u001b[40m.\u001b[0m\n",
      " \u001b[40m.\u001b[0m                   \u001b[40m.\u001b[0m\n",
      " \u001b[40m.\u001b[0m                   \u001b[40m.\u001b[0m\n",
      " \u001b[40m.\u001b[0m                   \u001b[40m.\u001b[0m\n",
      " \u001b[40m.\u001b[0m                   \u001b[40m.\u001b[0m\n",
      " \u001b[40m.\u001b[0m                   \u001b[40m.\u001b[0m\n",
      " \u001b[40m.\u001b[0m                   \u001b[40m.\u001b[0m\n",
      " \u001b[40m.\u001b[0m                   \u001b[40m.\u001b[0m\n",
      " \u001b[40m.\u001b[0m                   \u001b[40m.\u001b[0m\n",
      " \u001b[40m.\u001b[0m                   \u001b[40m.\u001b[0m\n",
      " \u001b[40m.\u001b[0m                   \u001b[40m.\u001b[0m\n",
      " \u001b[40m.\u001b[0m                   \u001b[40m.\u001b[0m\n",
      " \u001b[40m.\u001b[0m                   \u001b[40m.\u001b[0m\n",
      " \u001b[40m.\u001b[0m                   \u001b[40m.\u001b[0m\n",
      " \u001b[40m.\u001b[0m                   \u001b[40m.\u001b[0m\n",
      "\n",
      "Tablero final\n",
      "\n",
      " \u001b[0;37;47m.\u001b[0m                   \u001b[0;37;47m.\u001b[0m\n",
      " \u001b[0;37;47m.\u001b[0m                   \u001b[0;37;47m.\u001b[0m\n",
      " \u001b[40m.\u001b[0m                   \u001b[40m.\u001b[0m\n",
      " \u001b[40m.\u001b[0m                   \u001b[40m.\u001b[0m\n",
      " \u001b[40m.\u001b[0m                   \u001b[40m.\u001b[0m\n",
      " \u001b[40m.\u001b[0m      \u001b[36m■\u001b[0m \u001b[36m■\u001b[0m \u001b[36m■\u001b[0m \u001b[36m■\u001b[0m \u001b[36m■\u001b[0m \u001b[36m■\u001b[0m \u001b[36m■\u001b[0m\u001b[40m.\u001b[0m\n",
      " \u001b[40m.\u001b[0m                   \u001b[40m.\u001b[0m\n",
      " \u001b[40m.\u001b[0m                   \u001b[40m.\u001b[0m\n",
      " \u001b[40m.\u001b[0m                   \u001b[40m.\u001b[0m\n",
      " \u001b[40m.\u001b[0m                   \u001b[40m.\u001b[0m\n",
      " \u001b[40m.\u001b[0m                   \u001b[40m.\u001b[0m\n",
      " \u001b[40m.\u001b[0m                   \u001b[40m.\u001b[0m\n",
      " \u001b[40m.\u001b[0m                   \u001b[40m.\u001b[0m\n",
      " \u001b[40m.\u001b[0m                   \u001b[40m.\u001b[0m\n",
      " \u001b[40m.\u001b[0m                   \u001b[40m.\u001b[0m\n",
      " \u001b[40m.\u001b[0m                   \u001b[40m.\u001b[0m\n",
      " \u001b[40m.\u001b[0m                   \u001b[40m.\u001b[0m\n",
      " \u001b[40m.\u001b[0m                \u001b[35m■\u001b[0m  \u001b[40m.\u001b[0m\n",
      " \u001b[40m.\u001b[0m                \u001b[35m■\u001b[0m \u001b[35m■\u001b[0m\u001b[40m.\u001b[0m\n",
      " \u001b[40m.\u001b[0m                \u001b[35m■\u001b[0m  \u001b[40m.\u001b[0m\n",
      " \u001b[40m.\u001b[0m                   \u001b[40m.\u001b[0m\n",
      " \u001b[40m.\u001b[0m                   \u001b[40m.\u001b[0m\n"
     ]
    }
   ],
   "source": [
    "piece = pieceClass.Piece([coordinateClass.Coordinate(1,5),coordinateClass.Coordinate(0,5),coordinateClass.Coordinate(1,4),coordinateClass.Coordinate(1,6)], \"T\")\n",
    "finalPiece = pieceClass.Piece([coordinateClass.Coordinate(19,8),coordinateClass.Coordinate(18,8),coordinateClass.Coordinate(17,8),coordinateClass.Coordinate(18,9)], \"T\")\n",
    "piece2 = pieceClass.Piece([coordinateClass.Coordinate(2,5),coordinateClass.Coordinate(1,5),coordinateClass.Coordinate(3,5),coordinateClass.Coordinate(2,6)], \"T\")\n",
    "piece3 = pieceClass.Piece([coordinateClass.Coordinate(19,5),coordinateClass.Coordinate(18,5),coordinateClass.Coordinate(19,4),coordinateClass.Coordinate(19,6)], \"T\")\n",
    "board = boardClass.Board(22,10,piece)\n",
    "board.matrix[5]=1\n",
    "board.matrix[5,0]=0\n",
    "board.matrix[5,1]=0\n",
    "board.matrix[5,2]=0\n",
    "finalBoard = boardClass.Board(22,10,finalPiece)\n",
    "finalBoard.matrix[5]=1\n",
    "finalBoard.matrix[5,0]=0\n",
    "finalBoard.matrix[5,1]=0\n",
    "finalBoard.matrix[5,2]=0\n",
    "print(\"Tablero inicial\\n\")\n",
    "a = board.printBoard()\n",
    "print(\"\\nTablero final\\n\")\n",
    "b = finalBoard.printBoard()"
   ]
  },
  {
   "cell_type": "markdown",
   "metadata": {},
   "source": [
    "En este momento es preciso definir las distintas acciones que pueden realizarse con las piezas, usando para ello instancias de la clase Acción:"
   ]
  },
  {
   "cell_type": "code",
   "execution_count": 21,
   "metadata": {},
   "outputs": [],
   "source": [
    "def aplicabilidad(board):\n",
    "    return board.canMoveDown()\n",
    "\n",
    "def aplicación(board):\n",
    "    updatedBoard = copy.deepcopy(board)\n",
    "    updatedPiece = copy.deepcopy(updatedBoard.getCurrentPiece())\n",
    "    updatedPiece.moveDown()\n",
    "    updatedBoard.updateBoard(updatedPiece)\n",
    "    return updatedBoard\n",
    "\n",
    "moveDown = probee.Acción('Mover abajo', aplicabilidad, aplicación)\n",
    "\n",
    "def aplicabilidad(board):\n",
    "    return board.canMoveRight()\n",
    "\n",
    "def aplicación(board):\n",
    "    updatedBoard = copy.deepcopy(board)\n",
    "    updatedPiece = copy.deepcopy(updatedBoard.getCurrentPiece())\n",
    "    updatedPiece.moveRight()\n",
    "    updatedBoard.updateBoard(updatedPiece)\n",
    "    return updatedBoard\n",
    "\n",
    "moveRight = probee.Acción('Mover a la derecha', aplicabilidad, aplicación)\n",
    "\n",
    "def aplicabilidad(board):\n",
    "    return board.canMoveLeft()\n",
    "\n",
    "def aplicación(board):\n",
    "    updatedBoard = copy.deepcopy(board)\n",
    "    updatedPiece = copy.deepcopy(updatedBoard.getCurrentPiece())\n",
    "    updatedPiece.moveLeft()\n",
    "    updatedBoard.updateBoard(updatedPiece)\n",
    "    return updatedBoard\n",
    "\n",
    "moveLeft = probee.Acción('Mover a la izquierda', aplicabilidad, aplicación)\n",
    "\n",
    "def aplicabilidad(board):\n",
    "    return board.canRotateLeft()\n",
    "\n",
    "def aplicación(board):\n",
    "    updatedBoard = copy.deepcopy(board)\n",
    "    updatedPiece = copy.deepcopy(updatedBoard.getCurrentPiece())\n",
    "    updatedPiece.rotateLeft(board.width)\n",
    "    updatedBoard.updateBoard(updatedPiece)\n",
    "    return updatedBoard\n",
    "\n",
    "rotateLeft = probee.Acción('Rotar a la izquierda', aplicabilidad, aplicación)\n",
    "\n",
    "def aplicabilidad(board):\n",
    "    return board.canRotateRight()\n",
    "\n",
    "def aplicación(board):\n",
    "    updatedBoard = copy.deepcopy(board)\n",
    "    updatedPiece = copy.deepcopy(updatedBoard.getCurrentPiece())\n",
    "    updatedPiece.rotateRight(board.width)\n",
    "    updatedBoard.updateBoard(updatedPiece)\n",
    "    return updatedBoard\n",
    "\n",
    "rotateRight = probee.Acción('Rotar a la derecha', aplicabilidad, aplicación)"
   ]
  },
  {
   "cell_type": "markdown",
   "metadata": {},
   "source": [
    "Tras ello, creamos una instancia de la clase ProblemaEspacioEstados para definir nuestro problema como un espacio de estados, indicando el estado inicial, final, y el conjunto de acciones."
   ]
  },
  {
   "cell_type": "code",
   "execution_count": 22,
   "metadata": {},
   "outputs": [],
   "source": [
    "acciones = [moveDown,moveRight,moveLeft,rotateLeft,rotateRight]\n",
    "estado_inicial = board\n",
    "estado_final = finalBoard\n",
    "tetris = probee.ProblemaEspacioEstados(\n",
    "    acciones, estado_inicial, [estado_final])"
   ]
  },
  {
   "cell_type": "markdown",
   "metadata": {},
   "source": [
    "Para finalizar, usamos el método \"buscar\" y obtenemos la solución (si existe):"
   ]
  },
  {
   "cell_type": "code",
   "execution_count": 23,
   "metadata": {},
   "outputs": [
    {
     "name": "stdout",
     "output_type": "stream",
     "text": [
      "['Mover abajo', 'Mover abajo', 'Mover abajo', 'Mover a la izquierda', 'Mover a la izquierda', 'Mover a la izquierda', 'Mover a la izquierda', 'Mover abajo', 'Mover abajo', 'Mover abajo', 'Mover abajo', 'Mover abajo', 'Mover abajo', 'Mover abajo', 'Mover abajo', 'Mover abajo', 'Mover abajo', 'Mover abajo', 'Mover abajo', 'Mover abajo', 'Mover abajo', 'Mover a la derecha', 'Mover a la derecha', 'Mover a la derecha', 'Mover a la derecha', 'Mover a la derecha', 'Mover a la derecha', 'Mover a la derecha', 'Rotar a la derecha']\n",
      "57.9 s ± 0 ns per loop (mean ± std. dev. of 1 run, 1 loop each)\n"
     ]
    }
   ],
   "source": [
    "%%timeit -n1 -r1\n",
    "print(b_anchura.buscar(tetris))"
   ]
  },
  {
   "cell_type": "code",
   "execution_count": 24,
   "metadata": {},
   "outputs": [
    {
     "name": "stdout",
     "output_type": "stream",
     "text": [
      "['Mover abajo', 'Mover abajo', 'Mover abajo', 'Mover a la izquierda', 'Mover a la izquierda', 'Mover a la izquierda', 'Mover a la izquierda', 'Mover abajo', 'Mover abajo', 'Mover abajo', 'Mover abajo', 'Mover abajo', 'Mover abajo', 'Mover abajo', 'Mover abajo', 'Mover abajo', 'Mover abajo', 'Mover abajo', 'Mover abajo', 'Mover abajo', 'Mover abajo', 'Mover a la derecha', 'Mover a la derecha', 'Mover a la derecha', 'Mover a la derecha', 'Mover a la derecha', 'Mover a la derecha', 'Mover a la derecha', 'Rotar a la derecha']\n",
      "1min 1s ± 0 ns per loop (mean ± std. dev. of 1 run, 1 loop each)\n"
     ]
    }
   ],
   "source": [
    "%%timeit -n1 -r1\n",
    "try:\n",
    "    print(b_óptima.buscar(tetris))\n",
    "except:\n",
    "    print(\"No existe camino.\")"
   ]
  },
  {
   "cell_type": "code",
   "execution_count": 25,
   "metadata": {},
   "outputs": [],
   "source": [
    "from scipy.spatial import distance\n",
    "\n",
    "def h(nodo):\n",
    "    estado = nodo.estado\n",
    "    mini = 0\n",
    "    for i in range(len(estado.currentPiece.coordinates)):\n",
    "        a = estado.currentPiece.coordinates[i]\n",
    "        b = estado_final.currentPiece.coordinates[i]\n",
    "        x = b.getX()-a.getX()\n",
    "        y = b.getY()-a.getY()\n",
    "        mod = math.sqrt((x*x) + (y*y))\n",
    "        mini += mod\n",
    "    return mini\n",
    "b_a_estrella = búsqee.BúsquedaAEstrella(h)"
   ]
  },
  {
   "cell_type": "code",
   "execution_count": 26,
   "metadata": {},
   "outputs": [
    {
     "name": "stdout",
     "output_type": "stream",
     "text": [
      "['Mover abajo', 'Mover abajo', 'Mover abajo', 'Mover a la izquierda', 'Mover a la izquierda', 'Mover a la izquierda', 'Rotar a la izquierda', 'Mover abajo', 'Mover abajo', 'Mover abajo', 'Mover abajo', 'Mover abajo', 'Mover abajo', 'Mover abajo', 'Mover abajo', 'Mover a la derecha', 'Mover abajo', 'Mover a la derecha', 'Mover abajo', 'Mover a la derecha', 'Mover abajo', 'Mover a la derecha', 'Mover abajo', 'Mover a la derecha', 'Mover a la derecha', 'Mover abajo', 'Mover abajo', 'Rotar a la derecha', 'Rotar a la derecha']\n",
      "2.09 s ± 0 ns per loop (mean ± std. dev. of 1 run, 1 loop each)\n"
     ]
    }
   ],
   "source": [
    "%%timeit -n1 -r1\n",
    "try:\n",
    "    a = b_a_estrella.buscar(tetris)\n",
    "    print(a)\n",
    "except:\n",
    "    print(\"No existe camino.\")"
   ]
  },
  {
   "cell_type": "code",
   "execution_count": null,
   "metadata": {},
   "outputs": [],
   "source": [
    "%%timeit -n1 -r1\n",
    "print(b_profundidad.buscar(tetris))"
   ]
  }
 ],
 "metadata": {
  "kernelspec": {
   "display_name": "Python 3",
   "language": "python",
   "name": "python3"
  },
  "language_info": {
   "codemirror_mode": {
    "name": "ipython",
    "version": 3
   },
   "file_extension": ".py",
   "mimetype": "text/x-python",
   "name": "python",
   "nbconvert_exporter": "python",
   "pygments_lexer": "ipython3",
   "version": "3.6.5"
  }
 },
 "nbformat": 4,
 "nbformat_minor": 2
}
